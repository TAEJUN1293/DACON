{
 "cells": [
  {
   "cell_type": "markdown",
   "id": "b178d781",
   "metadata": {},
   "source": [
    "# 라이브러리 및 데이터 로드"
   ]
  },
  {
   "cell_type": "code",
   "execution_count": 1,
   "id": "3751c4a7",
   "metadata": {},
   "outputs": [],
   "source": [
    "import pandas as pd\n",
    "import numpy as np\n",
    "from sklearn.linear_model import LogisticRegression #로지스틱 회귀\n",
    "from sklearn.model_selection import train_test_split\n",
    "from sklearn.preprocessing import MinMaxScaler\n",
    "from sklearn.ensemble import RandomForestClassifier #랜덤포레스트\n",
    "import tensorflow as tf\n",
    "from tensorflow.keras import layers\n",
    "from catboost import Pool,CatBoostClassifier\n",
    "from sklearn.model_selection import StratifiedKFold,KFold\n",
    "from sklearn.metrics import f1_score\n",
    "import matplotlib.pyplot as plt\n",
    "import seaborn as sns\n",
    "pd.set_option('max_columns', 100)\n",
    "pd.set_option('display.max_rows', 10000)\n",
    "import optuna\n",
    "from optuna import Trial, visualization\n",
    "from optuna.samplers import TPESampler"
   ]
  },
  {
   "cell_type": "code",
   "execution_count": 2,
   "id": "2d17d47e",
   "metadata": {},
   "outputs": [],
   "source": [
    "tmp_train=pd.read_csv(\"C:/Users/wnrrh/desktop/dacon/Jobcare_data/train.csv\").set_index(keys='id')\n",
    "tmp_test=pd.read_csv(\"C:/Users/wnrrh/desktop/dacon/Jobcare_data/test.csv\").set_index(keys='id')\n",
    "d_code=pd.read_csv(\"C:/Users/wnrrh/desktop/dacon/Jobcare_data/속성_D_코드.csv\").set_index(keys='속성 D 코드')\n",
    "h_code=pd.read_csv(\"C:/Users/wnrrh/desktop/dacon/Jobcare_data/속성_H_코드.csv\").set_index(keys='속성 H 코드')\n",
    "l_code=pd.read_csv(\"C:/Users/wnrrh/desktop/dacon/Jobcare_data/속성_L_코드.csv\").set_index(keys='속성 L 코드')"
   ]
  },
  {
   "cell_type": "code",
   "execution_count": null,
   "id": "0e8f6616",
   "metadata": {},
   "outputs": [],
   "source": [
    "tmp_train.isna().sum()"
   ]
  },
  {
   "cell_type": "code",
   "execution_count": null,
   "id": "c90ff475",
   "metadata": {},
   "outputs": [],
   "source": [
    "tmp_test.isna().sum()"
   ]
  },
  {
   "cell_type": "code",
   "execution_count": null,
   "id": "77101a4b",
   "metadata": {},
   "outputs": [],
   "source": [
    "def createDF(main_df,d_code=d_code,h_code=h_code,l_code=l_code): #n:세분류,s:소분류,m:중분류,l:대분류\n",
    "    main_df=main_df.copy()\n",
    "    main_df[\"person_prefer_d_1_n\"]=main_df[\"person_prefer_d_1\"].apply(lambda x: d_code.loc[x,\"속성 D 세분류코드\"])\n",
    "    main_df[\"person_prefer_d_1_s\"]=main_df[\"person_prefer_d_1\"].apply(lambda x: d_code.loc[x,\"속성 D 소분류코드\"])\n",
    "    main_df[\"person_prefer_d_1_m\"]=main_df[\"person_prefer_d_1\"].apply(lambda x: d_code.loc[x,\"속성 D 중분류코드\"])\n",
    "    main_df[\"person_prefer_d_1_l\"]=main_df[\"person_prefer_d_1\"].apply(lambda x: d_code.loc[x,\"속성 D 대분류코드\"])\n",
    "    \n",
    "    main_df[\"person_prefer_d_2_n\"]=main_df[\"person_prefer_d_2\"].apply(lambda x: d_code.loc[x,\"속성 D 세분류코드\"])\n",
    "    main_df[\"person_prefer_d_2_s\"]=main_df[\"person_prefer_d_2\"].apply(lambda x: d_code.loc[x,\"속성 D 소분류코드\"])\n",
    "    main_df[\"person_prefer_d_2_m\"]=main_df[\"person_prefer_d_2\"].apply(lambda x: d_code.loc[x,\"속성 D 중분류코드\"])\n",
    "    main_df[\"person_prefer_d_2_l\"]=main_df[\"person_prefer_d_2\"].apply(lambda x: d_code.loc[x,\"속성 D 대분류코드\"])\n",
    "    \n",
    "    main_df[\"person_prefer_d_3_n\"]=main_df[\"person_prefer_d_3\"].apply(lambda x: d_code.loc[x,\"속성 D 세분류코드\"])\n",
    "    main_df[\"person_prefer_d_3_s\"]=main_df[\"person_prefer_d_3\"].apply(lambda x: d_code.loc[x,\"속성 D 소분류코드\"])\n",
    "    main_df[\"person_prefer_d_3_m\"]=main_df[\"person_prefer_d_3\"].apply(lambda x: d_code.loc[x,\"속성 D 중분류코드\"])\n",
    "    main_df[\"person_prefer_d_3_l\"]=main_df[\"person_prefer_d_3\"].apply(lambda x: d_code.loc[x,\"속성 D 대분류코드\"])\n",
    "    \n",
    "    main_df['person_prefer_h_1_m']=main_df['person_prefer_h_1'].apply(lambda x: h_code.loc[x,\"속성 H 중분류코드\"])\n",
    "    main_df['person_prefer_h_1_l']=main_df['person_prefer_h_1'].apply(lambda x: h_code.loc[x,\"속성 H 대분류코드\"])\n",
    "    \n",
    "    main_df['person_prefer_h_2_m']=main_df['person_prefer_h_2'].apply(lambda x: h_code.loc[x,\"속성 H 중분류코드\"])\n",
    "    main_df['person_prefer_h_2_l']=main_df['person_prefer_h_2'].apply(lambda x: h_code.loc[x,\"속성 H 대분류코드\"])\n",
    "    \n",
    "    main_df['person_prefer_h_3_m']=main_df['person_prefer_h_3'].apply(lambda x: h_code.loc[x,\"속성 H 중분류코드\"])\n",
    "    main_df['person_prefer_h_3_l']=main_df['person_prefer_h_3'].apply(lambda x: h_code.loc[x,\"속성 H 대분류코드\"])\n",
    "    \n",
    "    main_df['contents_attribute_l_n']=main_df['contents_attribute_l'].apply(lambda x: l_code.loc[x,\"속성 L 세분류코드\"])\n",
    "    main_df['contents_attribute_l_s']=main_df['contents_attribute_l'].apply(lambda x: l_code.loc[x,\"속성 L 소분류코드\"])\n",
    "    main_df['contents_attribute_l_m']=main_df['contents_attribute_l'].apply(lambda x: l_code.loc[x,\"속성 L 중분류코드\"])\n",
    "    main_df['contents_attribute_l_l']=main_df['contents_attribute_l'].apply(lambda x: l_code.loc[x,\"속성 L 대분류코드\"])\n",
    "    \n",
    "    main_df['contents_attribute_d_n']=main_df['contents_attribute_d'].apply(lambda x: d_code.loc[x,\"속성 D 세분류코드\"])\n",
    "    main_df['contents_attribute_d_s']=main_df['contents_attribute_d'].apply(lambda x: d_code.loc[x,\"속성 D 소분류코드\"])\n",
    "    main_df['contents_attribute_d_m']=main_df['contents_attribute_d'].apply(lambda x: d_code.loc[x,\"속성 D 중분류코드\"])\n",
    "    main_df['contents_attribute_d_l']=main_df['contents_attribute_d'].apply(lambda x: d_code.loc[x,\"속성 D 대분류코드\"])\n",
    "\n",
    "    main_df['contents_attribute_h_m']=main_df['contents_attribute_h'].apply(lambda x: h_code.loc[x,\"속성 H 중분류코드\"])\n",
    "    main_df['contents_attribute_h_l']=main_df['contents_attribute_h'].apply(lambda x: h_code.loc[x,\"속성 H 대분류코드\"])\n",
    "    \n",
    "    return main_df"
   ]
  },
  {
   "cell_type": "code",
   "execution_count": null,
   "id": "2758c9b2",
   "metadata": {},
   "outputs": [],
   "source": [
    "def preprocessing(df:pd.DataFrame)->pd.DataFrame:\n",
    "    print('--------start---------')\n",
    "    df=df.copy()\n",
    "    df.drop(['person_prefer_f','person_prefer_g','contents_rn','person_rn'],axis=1,inplace=True)\n",
    "    print('---------mid_1----------')\n",
    "    df['d_match_yn']=df['d_s_match_yn'] #d코드 매칭여부\n",
    "    df['d_n_match_yn']=df['d_m_match_yn'] #d 세분류 매칭여부\n",
    "    df['d_s_match_yn']=(df['person_prefer_d_1_s']==df['contents_attribute_d_s']) #d 소분류 매칭여부\n",
    "    df['d_m_matck_yn']=(df['person_prefer_d_1_m']==df['contents_attribute_d_m']) #d 중분류 매칭여부\n",
    "    \n",
    "    df['d_2_match_yn']=(df['person_prefer_d_2']==df['contents_attribute_d'])\n",
    "    df['d_2_n_match_yn']=(df['person_prefer_d_2_n']==df['contents_attribute_d_n'])\n",
    "    df['d_2_s_match_yn']=(df['person_prefer_d_2_s']==df['contents_attribute_d_s'])\n",
    "    df['d_2_m_match_yn']=(df['person_prefer_d_2_m']==df['contents_attribute_d_m'])\n",
    "    df['d_2_l_match_yn']=(df['person_prefer_d_2_l']==df['contents_attribute_d_l'])\n",
    "    \n",
    "    df['d_3_match_yn']=(df['person_prefer_d_3']==df['contents_attribute_d'])\n",
    "    df['d_3_n_match_yn']=(df['person_prefer_d_3_n']==df['contents_attribute_d_n'])\n",
    "    df['d_3_s_match_yn']=(df['person_prefer_d_3_s']==df['contents_attribute_d_s'])\n",
    "    df['d_3_m_match_yn']=(df['person_prefer_d_3_m']==df['contents_attribute_d_m'])\n",
    "    df['d_3_l_match_yn']=(df['person_prefer_d_3_l']==df['contents_attribute_d_l'])\n",
    "    \n",
    "    df['h_match_yn']=df['h_s_match_yn']\n",
    "    \n",
    "    df['h_2_match_yn']=(df['person_prefer_h_2']==df['contents_attribute_h'])\n",
    "    df['h_2_m_match_yn']=(df['person_prefer_h_2_m']==df['contents_attribute_h_m'])\n",
    "    df['h_2_l_match_yn']=(df['person_prefer_h_2_l']==df['contents_attribute_h_l'])\n",
    "    \n",
    "    df['h_3_match_yn']=(df['person_prefer_h_3']==df['contents_attribute_h'])\n",
    "    df['h_3_m_match_yn']=(df['person_prefer_h_3_m']==df['contents_attribute_h_m'])\n",
    "    df['h_3_l_match_yn']=(df['person_prefer_h_3_l']==df['contents_attribute_h_l'])\n",
    "    \n",
    "    #df['a_match_yn']\n",
    "    df['c_match_yn']=(df['person_prefer_c']==df['contents_attribute_c'])\n",
    "    df['e_match_yn']=(df['person_prefer_e']==df['contents_attribute_e'])\n",
    "    \n",
    "    print('---------mid_2----------')\n",
    "    for column in df.keys():\n",
    "        if column=='contents_open_dt':\n",
    "            df[column]=df[column].astype('datetime64').dt.dayofweek #0~6(0부터 월요일~)\n",
    "        if df[column].dtypes!='datetime64':\n",
    "            df[column]=df[column].astype('int64')\n",
    "    df['weekend']=df['contents_open_dt'].apply(lambda x: 1 if x>=5 else 0)\n",
    "    print('---------mid_3-----------')\n",
    "    #df['person_attribute_a']=df['person_attribute_a_1'].apply(lambda x: x+1)*(df['person_attribute_a'].apply(lambda x:1 if x==1 else -1 ))\n",
    "    #df['contents_attribute_j']=df['contents_attribute_j'].apply(lambda x: 0 if x==1 else 10)+df['contents_attribute_j_1']\n",
    "    print('---------mid_4----------')\n",
    "    \n",
    "    df['contents_attribute_k']-=1\n",
    "    #df=pd.get_dummies(df,columns=['person_prefer_c','contents_attribute_i','contents_attribute_a',\n",
    "    #                              'contents_attribute_j','contents_attribute_c','contents_attribute_m','contents_open_dt'])\n",
    "    df.drop([#'person_attribute_a_1',\n",
    "             #'contents_attribute_j_1',\n",
    "             'h_s_match_yn'],axis=1,inplace=True)\n",
    "    print(\"-----------finish------------\")\n",
    "    return df"
   ]
  },
  {
   "cell_type": "code",
   "execution_count": null,
   "id": "049a423f",
   "metadata": {},
   "outputs": [],
   "source": [
    "train_set=preprocessing(createDF(tmp_train))\n",
    "test_set=preprocessing(createDF(tmp_test))"
   ]
  },
  {
   "cell_type": "code",
   "execution_count": null,
   "id": "b6e35acc",
   "metadata": {},
   "outputs": [],
   "source": [
    "train_set.keys()"
   ]
  },
  {
   "cell_type": "code",
   "execution_count": null,
   "id": "cdf54f9b",
   "metadata": {},
   "outputs": [],
   "source": [
    "test_set.keys()"
   ]
  },
  {
   "cell_type": "code",
   "execution_count": null,
   "id": "5cda29cd",
   "metadata": {},
   "outputs": [],
   "source": [
    "key_list=list(train_set.keys())\n",
    "target_idx=key_list.index('target')\n",
    "y_train=train_set['target']\n",
    "x_train=train_set[key_list[:target_idx]+key_list[target_idx+1:]]"
   ]
  },
  {
   "cell_type": "code",
   "execution_count": null,
   "id": "8fa9055d",
   "metadata": {},
   "outputs": [],
   "source": [
    "y_train"
   ]
  },
  {
   "cell_type": "code",
   "execution_count": null,
   "id": "996dfcf3",
   "metadata": {},
   "outputs": [],
   "source": [
    "x_train"
   ]
  },
  {
   "cell_type": "code",
   "execution_count": null,
   "id": "5b0af485",
   "metadata": {},
   "outputs": [],
   "source": [
    "#로지스틱 회귀\n",
    "#model=LogisticRegression()\n",
    "#model.fit(x_train,y_train)"
   ]
  },
  {
   "cell_type": "code",
   "execution_count": null,
   "id": "8b96ae31",
   "metadata": {},
   "outputs": [],
   "source": [
    "from sklearn.model_selection import GridSearchCV rf_test=RandomForestClassifier(random_state=25) parameters={'n_estimators':[i for i in range(50,100,5)], 'max_depth':[i for i in range(15,30,3)]} grid_rf=GridSearchCV(rf_test, param_grid = parameters, cv=5, n_jobs=-1 ) grid_rf.fit(x_train,y_train) result=pd.DataFrame(grid_rf.cvresults['params']) result['mean_test_score']=grid_rf.cvresults['mean_test_score'] result.sort_values(by='mean_test_score',ascending=False)\n",
    "\n",
    "랜덤포레스트\n",
    "model=RandomForestClassifier(random_state=25,n_estimators=50,max_depth=20) model.fit(x_train,y_train)\n",
    "\n",
    "인공신경망\n",
    "model=tf.keras.Sequential()\n",
    "\n",
    "model.add(layers.Dense(72,input_shape=(72,))) model.add(layers.Activation('relu')) model.add(layers.Dropout(0.2))\n",
    "\n",
    "model.add(layers.Dense(36)) model.add(layers.Activation('relu')) model.add(layers.Dropout(0.2))\n",
    "\n",
    "model.add(layers.Dense(1)) model.add(layers.Activation('sigmoid'))\n",
    "\n",
    "model.compile(loss='binary_crossentropy', optimizer='nadam', metrics=['acc'])\n",
    "\n",
    "hist=model.fit(x_train,y_train, epochs=500, batch_size=128, validation_split=0.2, callbacks=[tf.keras.callbacks.EarlyStopping(monitor='val_loss',patience=250)], verbose=1)\n",
    "\n"
   ]
  },
  {
   "cell_type": "code",
   "execution_count": null,
   "id": "06fd8e2d",
   "metadata": {},
   "outputs": [],
   "source": [
    "#캣부스트\n",
    "#cat_features=x_train.columns[x_train.nunique()>2].to_list()\n",
    "is_holdout=False\n",
    "cv=KFold(n_splits=5,\n",
    "        shuffle=True)\n",
    "cat_features=x_train.columns[x_train.nunique()>2].to_list()\n",
    "scores=[]\n",
    "models=[]\n",
    "for train_idx,val_idx in cv.split(x_train):\n",
    "    print('='*60)\n",
    "    preds=[]\n",
    "    \n",
    "    model=CatBoostClassifier(iterations=3000,\n",
    "                             #task_type='GPU',\n",
    "                             eval_metric='F1',\n",
    "                             cat_features=cat_features,\n",
    "                             one_hot_max_size=4)\n",
    "    \n",
    "    model.fit(x_train.iloc[train_idx],y_train[train_idx],\n",
    "              eval_set=[(x_train.iloc[val_idx],y_train[val_idx])],\n",
    "              early_stopping_rounds=100,\n",
    "              verbose=100)\n",
    "    \n",
    "    models.append(model)\n",
    "    scores.append(model.get_best_score()['validation']['F1'])\n",
    "    if is_holdout:\n",
    "        break\n",
    "print(scores)\n",
    "print(np.mean(scores))"
   ]
  },
  {
   "cell_type": "code",
   "execution_count": null,
   "id": "eb747514",
   "metadata": {},
   "outputs": [],
   "source": [
    "threshold=0.3425\n",
    "pred_list=[]\n",
    "scores_2=[]\n",
    "for i,(train_idx,val_idx) in enumerate(cv.split(x_train)):\n",
    "    pred=models[i].predict_proba(x_train.iloc[val_idx])[:,1]\n",
    "    pred=np.where(pred>=threshold,1,0)\n",
    "    score=f1_score(y_train[val_idx],pred)\n",
    "    scores_2.append(score)\n",
    "    pred=models[i].predict_proba(test_set)[:,1]\n",
    "    pred_list.append(pred)\n",
    "print(scores_2)\n",
    "print(np.mean(scores_2))"
   ]
  },
  {
   "cell_type": "code",
   "execution_count": null,
   "id": "c12b82ce",
   "metadata": {},
   "outputs": [],
   "source": [
    "#preds=model.predict(test_set) # catboost 말고\n",
    "preds=np.mean(pred_list,axis=0) # catboost\n",
    "preds=np.where(preds>=threshold,1,0) # catboost\n",
    "submission=pd.read_csv('sample_submission.csv')\n",
    "submission['target']=preds.round()\n",
    "submission.to_csv('D:/Users/user/Desktop/submission.csv',index=False)"
   ]
  },
  {
   "cell_type": "code",
   "execution_count": null,
   "id": "57c3ce67",
   "metadata": {},
   "outputs": [],
   "source": []
  },
  {
   "cell_type": "code",
   "execution_count": null,
   "id": "3021c7c2",
   "metadata": {},
   "outputs": [],
   "source": []
  },
  {
   "cell_type": "code",
   "execution_count": null,
   "id": "b654a4bd",
   "metadata": {},
   "outputs": [],
   "source": []
  },
  {
   "cell_type": "code",
   "execution_count": null,
   "id": "fa3ed22d",
   "metadata": {},
   "outputs": [],
   "source": []
  },
  {
   "cell_type": "code",
   "execution_count": null,
   "id": "24273f8c",
   "metadata": {},
   "outputs": [],
   "source": []
  },
  {
   "cell_type": "code",
   "execution_count": null,
   "id": "ab2f0b5b",
   "metadata": {},
   "outputs": [],
   "source": []
  },
  {
   "cell_type": "code",
   "execution_count": null,
   "id": "e93f8357",
   "metadata": {},
   "outputs": [],
   "source": []
  },
  {
   "cell_type": "code",
   "execution_count": null,
   "id": "099e0531",
   "metadata": {},
   "outputs": [],
   "source": []
  },
  {
   "cell_type": "code",
   "execution_count": null,
   "id": "661f5ec1",
   "metadata": {},
   "outputs": [],
   "source": []
  }
 ],
 "metadata": {
  "kernelspec": {
   "display_name": "Python 3 (ipykernel)",
   "language": "python",
   "name": "python3"
  },
  "language_info": {
   "codemirror_mode": {
    "name": "ipython",
    "version": 3
   },
   "file_extension": ".py",
   "mimetype": "text/x-python",
   "name": "python",
   "nbconvert_exporter": "python",
   "pygments_lexer": "ipython3",
   "version": "3.8.12"
  }
 },
 "nbformat": 4,
 "nbformat_minor": 5
}
